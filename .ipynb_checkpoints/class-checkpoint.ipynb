{
 "cells": [
  {
   "cell_type": "code",
   "execution_count": 1,
   "id": "fe1accee-c9e1-47a1-abc0-c0fd5c447c19",
   "metadata": {},
   "outputs": [],
   "source": [
    "import pandas as pd\n",
    "import numpy as np\n",
    "import matplotlib.pyplot as plt\n",
    "import yfinance as yf"
   ]
  },
  {
   "cell_type": "code",
   "execution_count": 3,
   "id": "2a849c97-a2bb-46bb-83f1-284d4734db32",
   "metadata": {},
   "outputs": [],
   "source": [
    "class SMABacktester():\n",
    "    def __init__(self, symbol, SMA_S, SMA_L, start, end):\n",
    "        self.symbol = symbol\n",
    "        self.SMA_S = SMA_S\n",
    "        self.SMA_L = SMA_L\n",
    "        self.start = start\n",
    "        self.end = end\n",
    "        self.results = None\n",
    "        self.get_data()\n",
    "\n",
    "    def get_data(self):\n",
    "        df = yf.download(self.symbol, start=self.start, end=self.end)\n",
    "        data = df.Close.to_frame()\n",
    "        data['returns'] = np.log(data.Close.div(data.Close.shift(1)))\n",
    "        data['SMA_S'] = data.Close.rolling(self.SMA_S).mean()\n",
    "        data['SMA_L'] = data.Close.rolling(self.SMA_L).mean()\n",
    "        data.dropna(inplace=True)\n",
    "        self.data2 = data\n",
    "\n",
    "        return data\n",
    "\n",
    "    def test_results(self):\n",
    "        data = self.data2.copy().dropna()\n",
    "        data['position'] = np.where(data['SMA_S'] > data['SMA_L'], 1, -1)\n",
    "        data['strategy'] = data['returns']*data.position.shift(1)\n",
    "        data.dropna(inplace=True)\n",
    "        data['returnsbh'] = data['returns'].cumsum().apply(np.exp)\n",
    "        data['returnsstrategy'] = data['strategy'].cumsum().apply(np.exp)\n",
    "        perf = data['returnsstrategy'].iloc[-1]\n",
    "        outperf = perf-data['returnsbh'].iloc[-1]\n",
    "        self.results = data\n",
    "        ret = np.exp(data['strategy'].sum())\n",
    "        std = data['strategy'].std()*np.sqrt(252)\n",
    "        \n",
    "        return round(perf,6), round(outperf,6)\n",
    "\n",
    "\n",
    "    def plot_results(self):\n",
    "        if self.results is None:\n",
    "            print(\"Run the test\")\n",
    "        else:\n",
    "            title = f'{self.symbol}] SMA_S={self.SMA_S} | SMA_L={self.SMA_L}'\n",
    "            self.results[['returnsbh', 'returnsstrategy']].plot(title=title, figsize=(10,8))\n",
    "            plt.show()"
   ]
  },
  {
   "cell_type": "code",
   "execution_count": 5,
   "id": "1ba4fee3-251a-40fc-94b8-993532033027",
   "metadata": {},
   "outputs": [
    {
     "name": "stdout",
     "output_type": "stream",
     "text": [
      "[NbConvertApp] Converting notebook Untitled.ipynb to script\n",
      "[NbConvertApp] Writing 1796 bytes to Untitled.py\n"
     ]
    }
   ],
   "source": [
    "!jupyter nbconvert --to script Untitled.ipynb"
   ]
  }
 ],
 "metadata": {
  "kernelspec": {
   "display_name": "Python 3 (ipykernel)",
   "language": "python",
   "name": "python3"
  },
  "language_info": {
   "codemirror_mode": {
    "name": "ipython",
    "version": 3
   },
   "file_extension": ".py",
   "mimetype": "text/x-python",
   "name": "python",
   "nbconvert_exporter": "python",
   "pygments_lexer": "ipython3",
   "version": "3.12.0"
  }
 },
 "nbformat": 4,
 "nbformat_minor": 5
}
